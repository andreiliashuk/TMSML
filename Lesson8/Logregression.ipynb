{
  "cells": [
    {
      "cell_type": "code",
      "execution_count": 11,
      "metadata": {
        "id": "xp6mwbdAZ9Im"
      },
      "outputs": [],
      "source": [
        "import pandas as pd\n",
        "import numpy as np\n",
        "from sklearn.model_selection import train_test_split\n",
        "from sklearn.preprocessing import StandardScaler, LabelEncoder\n",
        "from sklearn.metrics import accuracy_score\n",
        "from sklearn.linear_model import LogisticRegression\n",
        "import re\n",
        "import warnings\n",
        "warnings.filterwarnings('ignore')"
      ]
    },
    {
      "cell_type": "code",
      "execution_count": 12,
      "metadata": {
        "id": "hbaU9cWLbl71"
      },
      "outputs": [],
      "source": [
        "df = pd.read_csv('data_tms.csv')\n"
      ]
    },
    {
      "cell_type": "code",
      "execution_count": 13,
      "metadata": {
        "id": "dAiAVFZkb97v"
      },
      "outputs": [],
      "source": [
        "def process_data(df):\n",
        "    data = df.copy()\n",
        "\n",
        "    def get_title(name):\n",
        "        match = re.search(r'(Mr|Mrs|Miss|Master|Dr|Rev|Col|Major|Mlle|Ms|Lady|Sir|Don|Mme|Countess|Jonkheer|Capt)', name)\n",
        "        if match:\n",
        "            return match.group(0)\n",
        "        return \"Other\"\n",
        "\n",
        "    data[\"Title\"] = data[\"Name\"].apply(get_title)\n",
        "\n",
        "    median_ages = data.groupby(\"Title\")[\"Age\"].median()\n",
        "\n",
        "    def fill_age(row):\n",
        "        if pd.isnull(row[\"Age\"]):\n",
        "            title = row[\"Title\"]\n",
        "            if title in median_ages and not np.isnan(median_ages[title]):\n",
        "                return median_ages[title]\n",
        "            else:\n",
        "                return data.groupby([\"Sex\", \"Pclass\"])[\"Age\"].transform(\"median\")[row.name]\n",
        "        return row[\"Age\"]\n",
        "\n",
        "    data[\"Age\"] = data.apply(fill_age, axis=1)\n",
        "\n",
        "    data['FamilySize'] = data['SibSp'] + data['Parch'] + 1\n",
        "    data['IsAlone'] = (data['FamilySize'] == 1).astype(int)\n",
        "\n",
        "    le_sex = LabelEncoder()\n",
        "    data['Sex_encoded'] = le_sex.fit_transform(data['Sex'])\n",
        "\n",
        "    data['AgeGroup'] = pd.cut(data['Age'], bins=[0, 12, 19, 35, 60, 100],\n",
        "                             labels=[0, 1, 2, 3, 4]).astype(int)\n",
        "\n",
        "    return data\n",
        "\n",
        "df_processed = process_data(df)\n",
        "\n",
        "all_features = ['Pclass', 'Sex_encoded', 'Age', 'SibSp', 'Parch', 'FamilySize', 'IsAlone', 'AgeGroup']\n",
        "available_features = [col for col in all_features if col in df_processed.columns]"
      ]
    },
    {
      "cell_type": "code",
      "execution_count": 14,
      "metadata": {
        "id": "X0x4q8Zlfyrn"
      },
      "outputs": [],
      "source": [
        "X_full = df_processed[available_features]\n",
        "y = df_processed['Survived']\n",
        "X_train_full, X_test_full, y_train, y_test = train_test_split(X_full, y, test_size=0.2, random_state=42, stratify=y)\n",
        "\n",
        "scaler = StandardScaler()\n",
        "X_train_full_scaled = scaler.fit_transform(X_train_full)\n",
        "X_test_full_scaled = scaler.transform(X_test_full)"
      ]
    },
    {
      "cell_type": "code",
      "execution_count": 15,
      "metadata": {
        "id": "7ESckLPmj4a9"
      },
      "outputs": [],
      "source": [
        "class LogReg:\n",
        "    def __init__(self, learning_rate=0.01, n_iterations=1000, tolerance=1e-6):\n",
        "        self.learning_rate = learning_rate\n",
        "        self.n_iterations = n_iterations\n",
        "        self.tolerance = tolerance\n",
        "        self.weights = None\n",
        "        self.bias = None\n",
        "        self.cost_history = []\n",
        "\n",
        "    def _sigmoid(self, z):\n",
        "        z = np.clip(z, -500, 500)\n",
        "        return 1 / (1 + np.exp(-z))\n",
        "\n",
        "    def cost(self, X, y):\n",
        "        m = len(y)\n",
        "        z = np.dot(X, self.weights) + self.bias\n",
        "        h = self._sigmoid(z)\n",
        "\n",
        "        e = 1e-15\n",
        "        h = np.clip(h, e, 1 - e)\n",
        "\n",
        "        cost = -np.mean(y * np.log(h) + (1 - y) * np.log(1 - h))\n",
        "        return cost\n",
        "\n",
        "    def fit(self, X, y):\n",
        "        m, n_features = X.shape\n",
        "        self.weights = np.zeros(n_features)\n",
        "        self.bias = 0\n",
        "\n",
        "        prev_cost = float('inf')\n",
        "        for i in range(self.n_iterations):\n",
        "            z = np.dot(X, self.weights) + self.bias\n",
        "            h = self._sigmoid(z)\n",
        "\n",
        "            dw = np.dot(X.T, (h - y)) / m\n",
        "            db = np.mean(h - y)\n",
        "\n",
        "            self.weights -= self.learning_rate * dw\n",
        "            self.bias -= self.learning_rate * db\n",
        "\n",
        "            cost = self.cost(X, y)\n",
        "            self.cost_history.append(cost)\n",
        "            prev_cost = cost\n",
        "\n",
        "    def predict_prob(self, X):\n",
        "        z = np.dot(X, self.weights) + self.bias\n",
        "        return self._sigmoid(z)\n",
        "\n",
        "    def predict(self, X):\n",
        "        return (self.predict_prob(X) >= 0.5).astype(int)\n"
      ]
    },
    {
      "cell_type": "code",
      "execution_count": 16,
      "metadata": {
        "id": "bWfmz9RzEgcY"
      },
      "outputs": [],
      "source": [
        "def fitting(train_score, test_score, limit=0.03, norm=0.7):\n",
        "    diff = abs(train_score - test_score)\n",
        "    if diff > limit:\n",
        "        if train_score < norm and test_score < norm:\n",
        "            fitting = \"НЕДООБУЧЕНИЕ\"\n",
        "        else:\n",
        "            fitting = \"ПЕРЕОБУЧЕНИЕ\"\n",
        "    else:\n",
        "        fitting = \"НОРМАЛЬНОЕ ОБУЧЕНИЕ\"\n",
        "\n",
        "    return {\n",
        "        'fitting': fitting,\n",
        "        'train_test_diff': diff,\n",
        "    }"
      ]
    },
    {
      "cell_type": "code",
      "execution_count": 17,
      "metadata": {
        "colab": {
          "base_uri": "https://localhost:8080/"
        },
        "id": "-djM2-fCyPqj",
        "outputId": "6c29d483-e39b-4f45-ccf5-944c11975620"
      },
      "outputs": [
        {
          "output_type": "stream",
          "name": "stdout",
          "text": [
            "МОДЕЛЬ 1:НЕДООБУЧЕНИЕ\n",
            "Признаков: 1\n",
            "Параметры: learning_rate=0.0001, n_iterations=20\n",
            "Train Accuracy: 0.6882\n",
            "Test Accuracy: 0.6425\n",
            "Разница: 0.0457\n",
            "Корректно ли обучение: НЕДООБУЧЕНИЕ\n"
          ]
        }
      ],
      "source": [
        "print(\"МОДЕЛЬ 1:НЕДООБУЧЕНИЕ\")\n",
        "minimal_features = ['Pclass']\n",
        "X_train_min = X_train_full[minimal_features]\n",
        "X_test_min = X_test_full[minimal_features]\n",
        "\n",
        "scaler_min = StandardScaler()\n",
        "X_train_min_scaled = scaler_min.fit_transform(X_train_min)\n",
        "X_test_min_scaled = scaler_min.transform(X_test_min)\n",
        "\n",
        "\n",
        "model_underfit = LogReg(learning_rate=0.0001, n_iterations=20)\n",
        "model_underfit.fit(X_train_min_scaled, y_train)\n",
        "\n",
        "y_pred_underfit = model_underfit.predict(X_test_min_scaled)\n",
        "test_accuracy_underfit = accuracy_score(y_test, y_pred_underfit)\n",
        "y_train_pred_underfit = model_underfit.predict(X_train_min_scaled)\n",
        "train_accuracy_underfit = accuracy_score(y_train, y_train_pred_underfit)\n",
        "\n",
        "underfit_fitting = fitting(train_accuracy_underfit, test_accuracy_underfit)\n",
        "print(f\"Признаков: {len(minimal_features)}\")\n",
        "print(\"Параметры: learning_rate=0.0001, n_iterations=20\")\n",
        "print(f\"Train Accuracy: {train_accuracy_underfit:.4f}\")\n",
        "print(f\"Test Accuracy: {test_accuracy_underfit:.4f}\")\n",
        "print(f\"Разница: {underfit_fitting['train_test_diff']:.4f}\")\n",
        "print(f\"Корректно ли обучение: {underfit_fitting['fitting']}\")"
      ]
    },
    {
      "cell_type": "code",
      "execution_count": 18,
      "metadata": {
        "colab": {
          "base_uri": "https://localhost:8080/"
        },
        "id": "POGzjR0CyVAd",
        "outputId": "0f34c4af-17d5-404d-e57b-8c3e21894fc4"
      },
      "outputs": [
        {
          "output_type": "stream",
          "name": "stdout",
          "text": [
            "МОДЕЛЬ 2:ПЕРЕОБУЧЕНИЕ\n",
            "Исходных признаков: 8\n",
            "Полный набор признаков: 214\n",
            "Параметры: learning_rate=2.0, n_iterations=2000\n",
            "Train Accuracy: 0.8624\n",
            "Test Accuracy: 0.6927\n",
            "Разница: 0.1696\n",
            "Корректно ли обучение: ПЕРЕОБУЧЕНИЕ\n"
          ]
        }
      ],
      "source": [
        "print(\"МОДЕЛЬ 2:ПЕРЕОБУЧЕНИЕ\")\n",
        "\n",
        "X_train_over = X_train_full.copy()\n",
        "X_test_over = X_test_full.copy()\n",
        "\n",
        "numeric_features = ['Pclass', 'Sex_encoded', 'Age', 'SibSp', 'Parch', 'FamilySize', 'IsAlone', 'AgeGroup']\n",
        "\n",
        "for i, col1 in enumerate(numeric_features):\n",
        "    for col2 in numeric_features:\n",
        "        if col1 != col2:\n",
        "            X_train_over[f'{col1}_x_{col2}'] = X_train_over[col1] * X_train_over[col2]\n",
        "            X_test_over[f'{col1}_x_{col2}'] = X_test_over[col1] * X_test_over[col2]\n",
        "\n",
        "np.random.seed(42)\n",
        "for i in range(100):\n",
        "    X_train_over[f'noise_{i}'] = np.random.normal(0, 1, len(X_train_over))\n",
        "    X_test_over[f'noise_{i}'] = np.random.normal(0, 1, len(X_test_over))\n",
        "\n",
        "for i in range(50):\n",
        "    X_train_over[f'noise_uniform_{i}'] = np.random.uniform(-1, 1, len(X_train_over))\n",
        "    X_test_over[f'noise_uniform_{i}'] = np.random.uniform(-1, 1, len(X_test_over))\n",
        "\n",
        "print(f\"Исходных признаков: {len(numeric_features)}\")\n",
        "print(f\"Полный набор признаков: {len(X_train_over.columns)}\")\n",
        "\n",
        "scaler_over = StandardScaler()\n",
        "X_train_over_scaled = scaler_over.fit_transform(X_train_over)\n",
        "X_test_over_scaled = scaler_over.transform(X_test_over)\n",
        "\n",
        "\n",
        "model_overfit = LogReg(learning_rate=2.0, n_iterations=2000)\n",
        "model_overfit.fit(X_train_over_scaled, y_train)\n",
        "\n",
        "y_pred_overfit = model_overfit.predict(X_test_over_scaled)\n",
        "test_accuracy_overfit = accuracy_score(y_test, y_pred_overfit)\n",
        "y_train_pred_overfit = model_overfit.predict(X_train_over_scaled)\n",
        "train_accuracy_overfit = accuracy_score(y_train, y_train_pred_overfit)\n",
        "\n",
        "overfit_fitting = fitting(train_accuracy_overfit, test_accuracy_overfit)\n",
        "print(\"Параметры: learning_rate=2.0, n_iterations=2000\")\n",
        "print(f\"Train Accuracy: {train_accuracy_overfit:.4f}\")\n",
        "print(f\"Test Accuracy: {test_accuracy_overfit:.4f}\")\n",
        "print(f\"Разница: {overfit_fitting['train_test_diff']:.4f}\")\n",
        "print(f\"Корректно ли обучение: {overfit_fitting['fitting']}\")"
      ]
    },
    {
      "cell_type": "code",
      "execution_count": 19,
      "metadata": {
        "colab": {
          "base_uri": "https://localhost:8080/"
        },
        "id": "3U6pUVLeFVwt",
        "outputId": "2f524bd1-189b-4e54-c185-7a2faccc05e8"
      },
      "outputs": [
        {
          "output_type": "stream",
          "name": "stdout",
          "text": [
            "МОДЕЛЬ 3: КОРРЕКТНОЕ ОБУЧЕНИЕ\n",
            "Признаков: 4\n",
            "Параметры: learning_rate=0.1, n_iterations=1000\n",
            "Train Accuracy: 0.7893\n",
            "Test Accuracy: 0.7933\n",
            "Разница: 0.0040\n",
            "Корректно ли обучение: НОРМАЛЬНОЕ ОБУЧЕНИЕ\n"
          ]
        }
      ],
      "source": [
        "print(\"МОДЕЛЬ 3: КОРРЕКТНОЕ ОБУЧЕНИЕ\")\n",
        "optimal_features = ['Pclass', 'Sex_encoded', 'Age', 'FamilySize']\n",
        "X_train_opt = X_train_full[optimal_features]\n",
        "X_test_opt = X_test_full[optimal_features]\n",
        "\n",
        "scaler_opt = StandardScaler()\n",
        "X_train_opt_scaled = scaler_opt.fit_transform(X_train_opt)\n",
        "X_test_opt_scaled = scaler_opt.transform(X_test_opt)\n",
        "\n",
        "model_correct = LogReg(learning_rate=0.1, n_iterations=1000)\n",
        "model_correct.fit(X_train_opt_scaled, y_train)\n",
        "\n",
        "y_pred_correct = model_correct.predict(X_test_opt_scaled)\n",
        "test_accuracy_correct = accuracy_score(y_test, y_pred_correct)\n",
        "y_train_pred_correct = model_correct.predict(X_train_opt_scaled)\n",
        "train_accuracy_correct = accuracy_score(y_train, y_train_pred_correct)\n",
        "\n",
        "correct_fitting = fitting(train_accuracy_correct, test_accuracy_correct)\n",
        "print(f\"Признаков: {len(optimal_features)}\")\n",
        "print(\"Параметры: learning_rate=0.1, n_iterations=1000\")\n",
        "print(f\"Train Accuracy: {train_accuracy_correct:.4f}\")\n",
        "print(f\"Test Accuracy: {test_accuracy_correct:.4f}\")\n",
        "print(f\"Разница: {correct_fitting['train_test_diff']:.4f}\")\n",
        "print(f\"Корректно ли обучение: {correct_fitting['fitting']}\")"
      ]
    },
    {
      "cell_type": "code",
      "execution_count": 20,
      "metadata": {
        "colab": {
          "base_uri": "https://localhost:8080/"
        },
        "id": "VfWVFs5DpT15",
        "outputId": "e87c7ade-3a85-4973-b2ac-a9e645136759"
      },
      "outputs": [
        {
          "output_type": "stream",
          "name": "stdout",
          "text": [
            "1.СВОЯ РЕАЛИЗАЦИЯ:\n",
            "   Train Accuracy: 0.7893\n",
            "   Test Accuracy:  0.7933\n",
            "   Веса: [-1.0118029  -1.31441958 -0.55556327 -0.30506512]\n",
            "2.SCIKIT-LEARN РЕАЛИЗАЦИЯ:\n",
            "   Train Accuracy: 0.7879\n",
            "   Test Accuracy:  0.7933\n",
            "   Веса: [-0.99246823 -1.2956085  -0.54204518 -0.29541199]\n",
            "3.СРАВНЕНИЕ МЕТРИК:\n",
            "   Метрика              Своя реализация  Scikit-learn    Разница\n",
            "   Train Accuracy    |     0.7893      |    0.7879    | 0.0014\n",
            "   Test Accuracy     |     0.7933      |    0.7933    | 0.0000\n"
          ]
        }
      ],
      "source": [
        "optimal_features = ['Pclass', 'Sex_encoded', 'Age', 'FamilySize']\n",
        "X_train_opt = X_train_full[optimal_features]\n",
        "X_test_opt = X_test_full[optimal_features]\n",
        "\n",
        "scaler_opt = StandardScaler()\n",
        "X_train_opt_scaled = scaler_opt.fit_transform(X_train_opt)\n",
        "X_test_opt_scaled = scaler_opt.transform(X_test_opt)\n",
        "\n",
        "print(\"1.СВОЯ РЕАЛИЗАЦИЯ:\")\n",
        "model_custom = LogReg(learning_rate=0.1, n_iterations=1000)\n",
        "model_custom.fit(X_train_opt_scaled, y_train)\n",
        "\n",
        "y_pred_custom_train = model_custom.predict(X_train_opt_scaled)\n",
        "y_pred_custom_test = model_custom.predict(X_test_opt_scaled)\n",
        "\n",
        "train_acc_custom = accuracy_score(y_train, y_pred_custom_train)\n",
        "test_acc_custom = accuracy_score(y_test, y_pred_custom_test)\n",
        "\n",
        "print(f\"   Train Accuracy: {train_acc_custom:.4f}\")\n",
        "print(f\"   Test Accuracy:  {test_acc_custom:.4f}\")\n",
        "print(f\"   Веса: {model_custom.weights}\")\n",
        "\n",
        "print(\"2.SCIKIT-LEARN РЕАЛИЗАЦИЯ:\")\n",
        "model_sklearn = LogisticRegression(\n",
        "    penalty='l2',\n",
        "    C=1.0,\n",
        "    solver='lbfgs',\n",
        "    max_iter=1000,\n",
        "    random_state=42\n",
        ")\n",
        "model_sklearn.fit(X_train_opt_scaled, y_train)\n",
        "\n",
        "y_pred_sklearn_train = model_sklearn.predict(X_train_opt_scaled)\n",
        "y_pred_sklearn_test = model_sklearn.predict(X_test_opt_scaled)\n",
        "\n",
        "train_acc_sklearn = accuracy_score(y_train, y_pred_sklearn_train)\n",
        "test_acc_sklearn = accuracy_score(y_test, y_pred_sklearn_test)\n",
        "\n",
        "print(f\"   Train Accuracy: {train_acc_sklearn:.4f}\")\n",
        "print(f\"   Test Accuracy:  {test_acc_sklearn:.4f}\")\n",
        "print(f\"   Веса: {model_sklearn.coef_[0]}\")\n",
        "\n",
        "print(\"3.СРАВНЕНИЕ МЕТРИК:\")\n",
        "print(\"   Метрика              Своя реализация  Scikit-learn    Разница\")\n",
        "print(f\"   Train Accuracy    |     {train_acc_custom:.4f}      |    {train_acc_sklearn:.4f}    | {abs(train_acc_custom - train_acc_sklearn):.4f}\")\n",
        "print(f\"   Test Accuracy     |     {test_acc_custom:.4f}      |    {test_acc_sklearn:.4f}    | {abs(test_acc_custom - test_acc_sklearn):.4f}\")"
      ]
    }
  ],
  "metadata": {
    "colab": {
      "provenance": []
    },
    "kernelspec": {
      "display_name": "Python 3",
      "name": "python3"
    },
    "language_info": {
      "codemirror_mode": {
        "name": "ipython",
        "version": 3
      },
      "file_extension": ".py",
      "mimetype": "text/x-python",
      "name": "python",
      "nbconvert_exporter": "python",
      "pygments_lexer": "ipython3",
      "version": "3.9.13"
    }
  },
  "nbformat": 4,
  "nbformat_minor": 0
}