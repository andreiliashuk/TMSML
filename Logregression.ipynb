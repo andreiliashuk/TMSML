{
  "cells": [
    {
      "cell_type": "code",
      "execution_count": null,
      "metadata": {
        "id": "xp6mwbdAZ9Im"
      },
      "outputs": [],
      "source": [
        "import pandas as pd\n",
        "import numpy as np\n",
        "from sklearn.model_selection import train_test_split\n",
        "from sklearn.preprocessing import StandardScaler, LabelEncoder\n",
        "from sklearn.metrics import accuracy_score\n",
        "from sklearn.linear_model import LogisticRegression\n",
        "import re\n",
        "import warnings\n",
        "warnings.filterwarnings('ignore')"
      ]
    },
    {
      "cell_type": "code",
      "execution_count": 2,
      "metadata": {
        "id": "hbaU9cWLbl71"
      },
      "outputs": [
        {
          "ename": "FileNotFoundError",
          "evalue": "[Errno 2] No such file or directory: 'data_tms.csv'",
          "output_type": "error",
          "traceback": [
            "\u001b[1;31m---------------------------------------------------------------------------\u001b[0m",
            "\u001b[1;31mFileNotFoundError\u001b[0m                         Traceback (most recent call last)",
            "Cell \u001b[1;32mIn[2], line 1\u001b[0m\n\u001b[1;32m----> 1\u001b[0m df \u001b[38;5;241m=\u001b[39m \u001b[43mpd\u001b[49m\u001b[38;5;241;43m.\u001b[39;49m\u001b[43mread_csv\u001b[49m\u001b[43m(\u001b[49m\u001b[38;5;124;43m'\u001b[39;49m\u001b[38;5;124;43mdata_tms.csv\u001b[39;49m\u001b[38;5;124;43m'\u001b[39;49m\u001b[43m)\u001b[49m\n",
            "File \u001b[1;32mc:\\Users\\Andreyy\\AppData\\Local\\Programs\\Python\\Python39\\lib\\site-packages\\pandas\\io\\parsers\\readers.py:1026\u001b[0m, in \u001b[0;36mread_csv\u001b[1;34m(filepath_or_buffer, sep, delimiter, header, names, index_col, usecols, dtype, engine, converters, true_values, false_values, skipinitialspace, skiprows, skipfooter, nrows, na_values, keep_default_na, na_filter, verbose, skip_blank_lines, parse_dates, infer_datetime_format, keep_date_col, date_parser, date_format, dayfirst, cache_dates, iterator, chunksize, compression, thousands, decimal, lineterminator, quotechar, quoting, doublequote, escapechar, comment, encoding, encoding_errors, dialect, on_bad_lines, delim_whitespace, low_memory, memory_map, float_precision, storage_options, dtype_backend)\u001b[0m\n\u001b[0;32m   1013\u001b[0m kwds_defaults \u001b[38;5;241m=\u001b[39m _refine_defaults_read(\n\u001b[0;32m   1014\u001b[0m     dialect,\n\u001b[0;32m   1015\u001b[0m     delimiter,\n\u001b[1;32m   (...)\u001b[0m\n\u001b[0;32m   1022\u001b[0m     dtype_backend\u001b[38;5;241m=\u001b[39mdtype_backend,\n\u001b[0;32m   1023\u001b[0m )\n\u001b[0;32m   1024\u001b[0m kwds\u001b[38;5;241m.\u001b[39mupdate(kwds_defaults)\n\u001b[1;32m-> 1026\u001b[0m \u001b[38;5;28;01mreturn\u001b[39;00m \u001b[43m_read\u001b[49m\u001b[43m(\u001b[49m\u001b[43mfilepath_or_buffer\u001b[49m\u001b[43m,\u001b[49m\u001b[43m \u001b[49m\u001b[43mkwds\u001b[49m\u001b[43m)\u001b[49m\n",
            "File \u001b[1;32mc:\\Users\\Andreyy\\AppData\\Local\\Programs\\Python\\Python39\\lib\\site-packages\\pandas\\io\\parsers\\readers.py:620\u001b[0m, in \u001b[0;36m_read\u001b[1;34m(filepath_or_buffer, kwds)\u001b[0m\n\u001b[0;32m    617\u001b[0m _validate_names(kwds\u001b[38;5;241m.\u001b[39mget(\u001b[38;5;124m\"\u001b[39m\u001b[38;5;124mnames\u001b[39m\u001b[38;5;124m\"\u001b[39m, \u001b[38;5;28;01mNone\u001b[39;00m))\n\u001b[0;32m    619\u001b[0m \u001b[38;5;66;03m# Create the parser.\u001b[39;00m\n\u001b[1;32m--> 620\u001b[0m parser \u001b[38;5;241m=\u001b[39m TextFileReader(filepath_or_buffer, \u001b[38;5;241m*\u001b[39m\u001b[38;5;241m*\u001b[39mkwds)\n\u001b[0;32m    622\u001b[0m \u001b[38;5;28;01mif\u001b[39;00m chunksize \u001b[38;5;129;01mor\u001b[39;00m iterator:\n\u001b[0;32m    623\u001b[0m     \u001b[38;5;28;01mreturn\u001b[39;00m parser\n",
            "File \u001b[1;32mc:\\Users\\Andreyy\\AppData\\Local\\Programs\\Python\\Python39\\lib\\site-packages\\pandas\\io\\parsers\\readers.py:1620\u001b[0m, in \u001b[0;36mTextFileReader.__init__\u001b[1;34m(self, f, engine, **kwds)\u001b[0m\n\u001b[0;32m   1617\u001b[0m     \u001b[38;5;28mself\u001b[39m\u001b[38;5;241m.\u001b[39moptions[\u001b[38;5;124m\"\u001b[39m\u001b[38;5;124mhas_index_names\u001b[39m\u001b[38;5;124m\"\u001b[39m] \u001b[38;5;241m=\u001b[39m kwds[\u001b[38;5;124m\"\u001b[39m\u001b[38;5;124mhas_index_names\u001b[39m\u001b[38;5;124m\"\u001b[39m]\n\u001b[0;32m   1619\u001b[0m \u001b[38;5;28mself\u001b[39m\u001b[38;5;241m.\u001b[39mhandles: IOHandles \u001b[38;5;241m|\u001b[39m \u001b[38;5;28;01mNone\u001b[39;00m \u001b[38;5;241m=\u001b[39m \u001b[38;5;28;01mNone\u001b[39;00m\n\u001b[1;32m-> 1620\u001b[0m \u001b[38;5;28mself\u001b[39m\u001b[38;5;241m.\u001b[39m_engine \u001b[38;5;241m=\u001b[39m \u001b[38;5;28;43mself\u001b[39;49m\u001b[38;5;241;43m.\u001b[39;49m\u001b[43m_make_engine\u001b[49m\u001b[43m(\u001b[49m\u001b[43mf\u001b[49m\u001b[43m,\u001b[49m\u001b[43m \u001b[49m\u001b[38;5;28;43mself\u001b[39;49m\u001b[38;5;241;43m.\u001b[39;49m\u001b[43mengine\u001b[49m\u001b[43m)\u001b[49m\n",
            "File \u001b[1;32mc:\\Users\\Andreyy\\AppData\\Local\\Programs\\Python\\Python39\\lib\\site-packages\\pandas\\io\\parsers\\readers.py:1880\u001b[0m, in \u001b[0;36mTextFileReader._make_engine\u001b[1;34m(self, f, engine)\u001b[0m\n\u001b[0;32m   1878\u001b[0m     \u001b[38;5;28;01mif\u001b[39;00m \u001b[38;5;124m\"\u001b[39m\u001b[38;5;124mb\u001b[39m\u001b[38;5;124m\"\u001b[39m \u001b[38;5;129;01mnot\u001b[39;00m \u001b[38;5;129;01min\u001b[39;00m mode:\n\u001b[0;32m   1879\u001b[0m         mode \u001b[38;5;241m+\u001b[39m\u001b[38;5;241m=\u001b[39m \u001b[38;5;124m\"\u001b[39m\u001b[38;5;124mb\u001b[39m\u001b[38;5;124m\"\u001b[39m\n\u001b[1;32m-> 1880\u001b[0m \u001b[38;5;28mself\u001b[39m\u001b[38;5;241m.\u001b[39mhandles \u001b[38;5;241m=\u001b[39m \u001b[43mget_handle\u001b[49m\u001b[43m(\u001b[49m\n\u001b[0;32m   1881\u001b[0m \u001b[43m    \u001b[49m\u001b[43mf\u001b[49m\u001b[43m,\u001b[49m\n\u001b[0;32m   1882\u001b[0m \u001b[43m    \u001b[49m\u001b[43mmode\u001b[49m\u001b[43m,\u001b[49m\n\u001b[0;32m   1883\u001b[0m \u001b[43m    \u001b[49m\u001b[43mencoding\u001b[49m\u001b[38;5;241;43m=\u001b[39;49m\u001b[38;5;28;43mself\u001b[39;49m\u001b[38;5;241;43m.\u001b[39;49m\u001b[43moptions\u001b[49m\u001b[38;5;241;43m.\u001b[39;49m\u001b[43mget\u001b[49m\u001b[43m(\u001b[49m\u001b[38;5;124;43m\"\u001b[39;49m\u001b[38;5;124;43mencoding\u001b[39;49m\u001b[38;5;124;43m\"\u001b[39;49m\u001b[43m,\u001b[49m\u001b[43m \u001b[49m\u001b[38;5;28;43;01mNone\u001b[39;49;00m\u001b[43m)\u001b[49m\u001b[43m,\u001b[49m\n\u001b[0;32m   1884\u001b[0m \u001b[43m    \u001b[49m\u001b[43mcompression\u001b[49m\u001b[38;5;241;43m=\u001b[39;49m\u001b[38;5;28;43mself\u001b[39;49m\u001b[38;5;241;43m.\u001b[39;49m\u001b[43moptions\u001b[49m\u001b[38;5;241;43m.\u001b[39;49m\u001b[43mget\u001b[49m\u001b[43m(\u001b[49m\u001b[38;5;124;43m\"\u001b[39;49m\u001b[38;5;124;43mcompression\u001b[39;49m\u001b[38;5;124;43m\"\u001b[39;49m\u001b[43m,\u001b[49m\u001b[43m \u001b[49m\u001b[38;5;28;43;01mNone\u001b[39;49;00m\u001b[43m)\u001b[49m\u001b[43m,\u001b[49m\n\u001b[0;32m   1885\u001b[0m \u001b[43m    \u001b[49m\u001b[43mmemory_map\u001b[49m\u001b[38;5;241;43m=\u001b[39;49m\u001b[38;5;28;43mself\u001b[39;49m\u001b[38;5;241;43m.\u001b[39;49m\u001b[43moptions\u001b[49m\u001b[38;5;241;43m.\u001b[39;49m\u001b[43mget\u001b[49m\u001b[43m(\u001b[49m\u001b[38;5;124;43m\"\u001b[39;49m\u001b[38;5;124;43mmemory_map\u001b[39;49m\u001b[38;5;124;43m\"\u001b[39;49m\u001b[43m,\u001b[49m\u001b[43m \u001b[49m\u001b[38;5;28;43;01mFalse\u001b[39;49;00m\u001b[43m)\u001b[49m\u001b[43m,\u001b[49m\n\u001b[0;32m   1886\u001b[0m \u001b[43m    \u001b[49m\u001b[43mis_text\u001b[49m\u001b[38;5;241;43m=\u001b[39;49m\u001b[43mis_text\u001b[49m\u001b[43m,\u001b[49m\n\u001b[0;32m   1887\u001b[0m \u001b[43m    \u001b[49m\u001b[43merrors\u001b[49m\u001b[38;5;241;43m=\u001b[39;49m\u001b[38;5;28;43mself\u001b[39;49m\u001b[38;5;241;43m.\u001b[39;49m\u001b[43moptions\u001b[49m\u001b[38;5;241;43m.\u001b[39;49m\u001b[43mget\u001b[49m\u001b[43m(\u001b[49m\u001b[38;5;124;43m\"\u001b[39;49m\u001b[38;5;124;43mencoding_errors\u001b[39;49m\u001b[38;5;124;43m\"\u001b[39;49m\u001b[43m,\u001b[49m\u001b[43m \u001b[49m\u001b[38;5;124;43m\"\u001b[39;49m\u001b[38;5;124;43mstrict\u001b[39;49m\u001b[38;5;124;43m\"\u001b[39;49m\u001b[43m)\u001b[49m\u001b[43m,\u001b[49m\n\u001b[0;32m   1888\u001b[0m \u001b[43m    \u001b[49m\u001b[43mstorage_options\u001b[49m\u001b[38;5;241;43m=\u001b[39;49m\u001b[38;5;28;43mself\u001b[39;49m\u001b[38;5;241;43m.\u001b[39;49m\u001b[43moptions\u001b[49m\u001b[38;5;241;43m.\u001b[39;49m\u001b[43mget\u001b[49m\u001b[43m(\u001b[49m\u001b[38;5;124;43m\"\u001b[39;49m\u001b[38;5;124;43mstorage_options\u001b[39;49m\u001b[38;5;124;43m\"\u001b[39;49m\u001b[43m,\u001b[49m\u001b[43m \u001b[49m\u001b[38;5;28;43;01mNone\u001b[39;49;00m\u001b[43m)\u001b[49m\u001b[43m,\u001b[49m\n\u001b[0;32m   1889\u001b[0m \u001b[43m\u001b[49m\u001b[43m)\u001b[49m\n\u001b[0;32m   1890\u001b[0m \u001b[38;5;28;01massert\u001b[39;00m \u001b[38;5;28mself\u001b[39m\u001b[38;5;241m.\u001b[39mhandles \u001b[38;5;129;01mis\u001b[39;00m \u001b[38;5;129;01mnot\u001b[39;00m \u001b[38;5;28;01mNone\u001b[39;00m\n\u001b[0;32m   1891\u001b[0m f \u001b[38;5;241m=\u001b[39m \u001b[38;5;28mself\u001b[39m\u001b[38;5;241m.\u001b[39mhandles\u001b[38;5;241m.\u001b[39mhandle\n",
            "File \u001b[1;32mc:\\Users\\Andreyy\\AppData\\Local\\Programs\\Python\\Python39\\lib\\site-packages\\pandas\\io\\common.py:873\u001b[0m, in \u001b[0;36mget_handle\u001b[1;34m(path_or_buf, mode, encoding, compression, memory_map, is_text, errors, storage_options)\u001b[0m\n\u001b[0;32m    868\u001b[0m \u001b[38;5;28;01melif\u001b[39;00m \u001b[38;5;28misinstance\u001b[39m(handle, \u001b[38;5;28mstr\u001b[39m):\n\u001b[0;32m    869\u001b[0m     \u001b[38;5;66;03m# Check whether the filename is to be opened in binary mode.\u001b[39;00m\n\u001b[0;32m    870\u001b[0m     \u001b[38;5;66;03m# Binary mode does not support 'encoding' and 'newline'.\u001b[39;00m\n\u001b[0;32m    871\u001b[0m     \u001b[38;5;28;01mif\u001b[39;00m ioargs\u001b[38;5;241m.\u001b[39mencoding \u001b[38;5;129;01mand\u001b[39;00m \u001b[38;5;124m\"\u001b[39m\u001b[38;5;124mb\u001b[39m\u001b[38;5;124m\"\u001b[39m \u001b[38;5;129;01mnot\u001b[39;00m \u001b[38;5;129;01min\u001b[39;00m ioargs\u001b[38;5;241m.\u001b[39mmode:\n\u001b[0;32m    872\u001b[0m         \u001b[38;5;66;03m# Encoding\u001b[39;00m\n\u001b[1;32m--> 873\u001b[0m         handle \u001b[38;5;241m=\u001b[39m \u001b[38;5;28;43mopen\u001b[39;49m\u001b[43m(\u001b[49m\n\u001b[0;32m    874\u001b[0m \u001b[43m            \u001b[49m\u001b[43mhandle\u001b[49m\u001b[43m,\u001b[49m\n\u001b[0;32m    875\u001b[0m \u001b[43m            \u001b[49m\u001b[43mioargs\u001b[49m\u001b[38;5;241;43m.\u001b[39;49m\u001b[43mmode\u001b[49m\u001b[43m,\u001b[49m\n\u001b[0;32m    876\u001b[0m \u001b[43m            \u001b[49m\u001b[43mencoding\u001b[49m\u001b[38;5;241;43m=\u001b[39;49m\u001b[43mioargs\u001b[49m\u001b[38;5;241;43m.\u001b[39;49m\u001b[43mencoding\u001b[49m\u001b[43m,\u001b[49m\n\u001b[0;32m    877\u001b[0m \u001b[43m            \u001b[49m\u001b[43merrors\u001b[49m\u001b[38;5;241;43m=\u001b[39;49m\u001b[43merrors\u001b[49m\u001b[43m,\u001b[49m\n\u001b[0;32m    878\u001b[0m \u001b[43m            \u001b[49m\u001b[43mnewline\u001b[49m\u001b[38;5;241;43m=\u001b[39;49m\u001b[38;5;124;43m\"\u001b[39;49m\u001b[38;5;124;43m\"\u001b[39;49m\u001b[43m,\u001b[49m\n\u001b[0;32m    879\u001b[0m \u001b[43m        \u001b[49m\u001b[43m)\u001b[49m\n\u001b[0;32m    880\u001b[0m     \u001b[38;5;28;01melse\u001b[39;00m:\n\u001b[0;32m    881\u001b[0m         \u001b[38;5;66;03m# Binary mode\u001b[39;00m\n\u001b[0;32m    882\u001b[0m         handle \u001b[38;5;241m=\u001b[39m \u001b[38;5;28mopen\u001b[39m(handle, ioargs\u001b[38;5;241m.\u001b[39mmode)\n",
            "\u001b[1;31mFileNotFoundError\u001b[0m: [Errno 2] No such file or directory: 'data_tms.csv'"
          ]
        }
      ],
      "source": [
        "df = pd.read_csv('data_tms.csv')\n"
      ]
    },
    {
      "cell_type": "code",
      "execution_count": null,
      "metadata": {
        "id": "dAiAVFZkb97v"
      },
      "outputs": [],
      "source": [
        "def process_data(df):\n",
        "    data = df.copy()\n",
        "\n",
        "    def get_title(name):\n",
        "        match = re.search(r'(Mr|Mrs|Miss|Master|Dr|Rev|Col|Major|Mlle|Ms|Lady|Sir|Don|Mme|Countess|Jonkheer|Capt)', name)\n",
        "        if match:\n",
        "            return match.group(0)\n",
        "        return \"Other\"\n",
        "\n",
        "    data[\"Title\"] = data[\"Name\"].apply(get_title)\n",
        "\n",
        "    median_ages = data.groupby(\"Title\")[\"Age\"].median()\n",
        "\n",
        "    def fill_age(row):\n",
        "        if pd.isnull(row[\"Age\"]):\n",
        "            title = row[\"Title\"]\n",
        "            if title in median_ages and not np.isnan(median_ages[title]):\n",
        "                return median_ages[title]\n",
        "            else:\n",
        "                return data.groupby([\"Sex\", \"Pclass\"])[\"Age\"].transform(\"median\")[row.name]\n",
        "        return row[\"Age\"]\n",
        "\n",
        "    data[\"Age\"] = data.apply(fill_age, axis=1)\n",
        "\n",
        "    data['FamilySize'] = data['SibSp'] + data['Parch'] + 1\n",
        "    data['IsAlone'] = (data['FamilySize'] == 1).astype(int)\n",
        "\n",
        "    le_sex = LabelEncoder()\n",
        "    data['Sex_encoded'] = le_sex.fit_transform(data['Sex'])\n",
        "\n",
        "    data['AgeGroup'] = pd.cut(data['Age'], bins=[0, 12, 19, 35, 60, 100],\n",
        "                             labels=[0, 1, 2, 3, 4]).astype(int)\n",
        "\n",
        "    return data\n",
        "\n",
        "df_processed = process_data(df)\n",
        "\n",
        "all_features = ['Pclass', 'Sex_encoded', 'Age', 'SibSp', 'Parch', 'FamilySize', 'IsAlone', 'AgeGroup']\n",
        "available_features = [col for col in all_features if col in df_processed.columns]"
      ]
    },
    {
      "cell_type": "code",
      "execution_count": null,
      "metadata": {
        "id": "X0x4q8Zlfyrn"
      },
      "outputs": [],
      "source": [
        "X_full = df_processed[available_features]\n",
        "y = df_processed['Survived']\n",
        "X_train_full, X_test_full, y_train, y_test = train_test_split(X_full, y, test_size=0.2, random_state=42, stratify=y)\n",
        "\n",
        "scaler = StandardScaler()\n",
        "X_train_full_scaled = scaler.fit_transform(X_train_full)\n",
        "X_test_full_scaled = scaler.transform(X_test_full)"
      ]
    },
    {
      "cell_type": "code",
      "execution_count": null,
      "metadata": {
        "id": "7ESckLPmj4a9"
      },
      "outputs": [],
      "source": [
        "class LogReg:\n",
        "    def __init__(self, learning_rate=0.01, n_iterations=1000, tolerance=1e-6):\n",
        "        self.learning_rate = learning_rate\n",
        "        self.n_iterations = n_iterations\n",
        "        self.tolerance = tolerance\n",
        "        self.weights = None\n",
        "        self.bias = None\n",
        "        self.cost_history = []\n",
        "\n",
        "    def _sigmoid(self, z):\n",
        "        z = np.clip(z, -500, 500)\n",
        "        return 1 / (1 + np.exp(-z))\n",
        "\n",
        "    def cost(self, X, y):\n",
        "        m = len(y)\n",
        "        z = np.dot(X, self.weights) + self.bias\n",
        "        h = self._sigmoid(z)\n",
        "\n",
        "        e = 1e-15\n",
        "        h = np.clip(h, e, 1 - e)\n",
        "\n",
        "        cost = -np.mean(y * np.log(h) + (1 - y) * np.log(1 - h))\n",
        "        return cost\n",
        "\n",
        "    def fit(self, X, y):\n",
        "        m, n_features = X.shape\n",
        "        self.weights = np.zeros(n_features)\n",
        "        self.bias = 0\n",
        "\n",
        "        prev_cost = float('inf')\n",
        "        for i in range(self.n_iterations):\n",
        "            z = np.dot(X, self.weights) + self.bias\n",
        "            h = self._sigmoid(z)\n",
        "\n",
        "            dw = np.dot(X.T, (h - y)) / m\n",
        "            db = np.mean(h - y)\n",
        "\n",
        "            self.weights -= self.learning_rate * dw\n",
        "            self.bias -= self.learning_rate * db\n",
        "\n",
        "            cost = self.cost(X, y)\n",
        "            self.cost_history.append(cost)\n",
        "            prev_cost = cost\n",
        "\n",
        "    def predict_prob(self, X):\n",
        "        z = np.dot(X, self.weights) + self.bias\n",
        "        return self._sigmoid(z)\n",
        "\n",
        "    def predict(self, X):\n",
        "        return (self.predict_prob(X) >= 0.5).astype(int)\n"
      ]
    },
    {
      "cell_type": "code",
      "execution_count": null,
      "metadata": {
        "id": "bWfmz9RzEgcY"
      },
      "outputs": [],
      "source": [
        "def fitting(train_score, test_score, limit=0.03, norm=0.7):\n",
        "    diff = abs(train_score - test_score)\n",
        "    if diff > limit:\n",
        "        if train_score < norm and test_score < norm:\n",
        "            fitting = \"НЕДООБУЧЕНИЕ\"\n",
        "        else:\n",
        "            fitting = \"ПЕРЕОБУЧЕНИЕ\"\n",
        "    else:\n",
        "        fitting = \"НОРМАЛЬНОЕ ОБУЧЕНИЕ\"\n",
        "\n",
        "    return {\n",
        "        'fitting': fitting,\n",
        "        'train_test_diff': diff,\n",
        "    }"
      ]
    },
    {
      "cell_type": "code",
      "execution_count": null,
      "metadata": {
        "colab": {
          "base_uri": "https://localhost:8080/"
        },
        "id": "-djM2-fCyPqj",
        "outputId": "cbb96442-8066-4afa-c316-8f2ce74ffadc"
      },
      "outputs": [
        {
          "name": "stdout",
          "output_type": "stream",
          "text": [
            "МОДЕЛЬ 1:НЕДООБУЧЕНИЕ\n",
            "Признаков: 1\n",
            "Параметры: learning_rate=0.0001, n_iterations=20\n",
            "Train Accuracy: 0.6882\n",
            "Test Accuracy: 0.6425\n",
            "Разница: 0.0457\n",
            "Корректно ли обучение: НЕДООБУЧЕНИЕ\n"
          ]
        }
      ],
      "source": [
        "print(\"МОДЕЛЬ 1:НЕДООБУЧЕНИЕ\")\n",
        "minimal_features = ['Pclass']\n",
        "X_train_min = X_train_full[minimal_features]\n",
        "X_test_min = X_test_full[minimal_features]\n",
        "\n",
        "scaler_min = StandardScaler()\n",
        "X_train_min_scaled = scaler_min.fit_transform(X_train_min)\n",
        "X_test_min_scaled = scaler_min.transform(X_test_min)\n",
        "\n",
        "\n",
        "model_underfit = LogReg(learning_rate=0.0001, n_iterations=20)\n",
        "model_underfit.fit(X_train_min_scaled, y_train)\n",
        "\n",
        "y_pred_underfit = model_underfit.predict(X_test_min_scaled)\n",
        "test_accuracy_underfit = accuracy_score(y_test, y_pred_underfit)\n",
        "y_train_pred_underfit = model_underfit.predict(X_train_min_scaled)\n",
        "train_accuracy_underfit = accuracy_score(y_train, y_train_pred_underfit)\n",
        "\n",
        "underfit_fitting = fitting(train_accuracy_underfit, test_accuracy_underfit)\n",
        "print(f\"Признаков: {len(minimal_features)}\")\n",
        "print(\"Параметры: learning_rate=0.0001, n_iterations=20\")\n",
        "print(f\"Train Accuracy: {train_accuracy_underfit:.4f}\")\n",
        "print(f\"Test Accuracy: {test_accuracy_underfit:.4f}\")\n",
        "print(f\"Разница: {underfit_fitting['train_test_diff']:.4f}\")\n",
        "print(f\"Корректно ли обучение: {underfit_fitting['fitting']}\")"
      ]
    },
    {
      "cell_type": "code",
      "execution_count": null,
      "metadata": {
        "colab": {
          "base_uri": "https://localhost:8080/"
        },
        "id": "POGzjR0CyVAd",
        "outputId": "84c86578-dffc-4432-aa40-861d24e09a34"
      },
      "outputs": [
        {
          "name": "stdout",
          "output_type": "stream",
          "text": [
            "МОДЕЛЬ 2:ПЕРЕОБУЧЕНИЕ\n",
            "Исходных признаков: 8\n",
            "Полный набор признаков: 214\n",
            "Параметры: learning_rate=2.0, n_iterations=2000\n",
            "Train Accuracy: 0.8624\n",
            "Test Accuracy: 0.6927\n",
            "Разница: 0.1696\n",
            "Корректно ли обучение: ПЕРЕОБУЧЕНИЕ\n"
          ]
        }
      ],
      "source": [
        "print(\"МОДЕЛЬ 2:ПЕРЕОБУЧЕНИЕ\")\n",
        "\n",
        "X_train_over = X_train_full.copy()\n",
        "X_test_over = X_test_full.copy()\n",
        "\n",
        "numeric_features = ['Pclass', 'Sex_encoded', 'Age', 'SibSp', 'Parch', 'FamilySize', 'IsAlone', 'AgeGroup']\n",
        "\n",
        "for i, col1 in enumerate(numeric_features):\n",
        "    for col2 in numeric_features:\n",
        "        if col1 != col2:\n",
        "            X_train_over[f'{col1}_x_{col2}'] = X_train_over[col1] * X_train_over[col2]\n",
        "            X_test_over[f'{col1}_x_{col2}'] = X_test_over[col1] * X_test_over[col2]\n",
        "\n",
        "np.random.seed(42)\n",
        "for i in range(100):\n",
        "    X_train_over[f'noise_{i}'] = np.random.normal(0, 1, len(X_train_over))\n",
        "    X_test_over[f'noise_{i}'] = np.random.normal(0, 1, len(X_test_over))\n",
        "\n",
        "for i in range(50):\n",
        "    X_train_over[f'noise_uniform_{i}'] = np.random.uniform(-1, 1, len(X_train_over))\n",
        "    X_test_over[f'noise_uniform_{i}'] = np.random.uniform(-1, 1, len(X_test_over))\n",
        "\n",
        "print(f\"Исходных признаков: {len(numeric_features)}\")\n",
        "print(f\"Полный набор признаков: {len(X_train_over.columns)}\")\n",
        "\n",
        "scaler_over = StandardScaler()\n",
        "X_train_over_scaled = scaler_over.fit_transform(X_train_over)\n",
        "X_test_over_scaled = scaler_over.transform(X_test_over)\n",
        "\n",
        "\n",
        "model_overfit = LogReg(learning_rate=2.0, n_iterations=2000)\n",
        "model_overfit.fit(X_train_over_scaled, y_train)\n",
        "\n",
        "y_pred_overfit = model_overfit.predict(X_test_over_scaled)\n",
        "test_accuracy_overfit = accuracy_score(y_test, y_pred_overfit)\n",
        "y_train_pred_overfit = model_overfit.predict(X_train_over_scaled)\n",
        "train_accuracy_overfit = accuracy_score(y_train, y_train_pred_overfit)\n",
        "\n",
        "overfit_fitting = fitting(train_accuracy_overfit, test_accuracy_overfit)\n",
        "print(\"Параметры: learning_rate=2.0, n_iterations=2000\")\n",
        "print(f\"Train Accuracy: {train_accuracy_overfit:.4f}\")\n",
        "print(f\"Test Accuracy: {test_accuracy_overfit:.4f}\")\n",
        "print(f\"Разница: {overfit_fitting['train_test_diff']:.4f}\")\n",
        "print(f\"Корректно ли обучение: {overfit_fitting['fitting']}\")"
      ]
    },
    {
      "cell_type": "code",
      "execution_count": null,
      "metadata": {
        "colab": {
          "base_uri": "https://localhost:8080/"
        },
        "id": "3U6pUVLeFVwt",
        "outputId": "018e45bf-e453-4f20-8bbf-b2e21d94a188"
      },
      "outputs": [
        {
          "name": "stdout",
          "output_type": "stream",
          "text": [
            "МОДЕЛЬ 3: КОРРЕКТНОЕ ОБУЧЕНИЕ\n",
            "Признаков: 4\n",
            "Параметры: learning_rate=0.1, n_iterations=1000\n",
            "Train Accuracy: 0.7893\n",
            "Test Accuracy: 0.7933\n",
            "Разница: 0.0040\n",
            "Корректно ли обучение: НОРМАЛЬНОЕ ОБУЧЕНИЕ\n"
          ]
        }
      ],
      "source": [
        "print(\"МОДЕЛЬ 3: КОРРЕКТНОЕ ОБУЧЕНИЕ\")\n",
        "optimal_features = ['Pclass', 'Sex_encoded', 'Age', 'FamilySize']\n",
        "X_train_opt = X_train_full[optimal_features]\n",
        "X_test_opt = X_test_full[optimal_features]\n",
        "\n",
        "scaler_opt = StandardScaler()\n",
        "X_train_opt_scaled = scaler_opt.fit_transform(X_train_opt)\n",
        "X_test_opt_scaled = scaler_opt.transform(X_test_opt)\n",
        "\n",
        "model_correct = LogReg(learning_rate=0.1, n_iterations=1000)\n",
        "model_correct.fit(X_train_opt_scaled, y_train)\n",
        "\n",
        "y_pred_correct = model_correct.predict(X_test_opt_scaled)\n",
        "test_accuracy_correct = accuracy_score(y_test, y_pred_correct)\n",
        "y_train_pred_correct = model_correct.predict(X_train_opt_scaled)\n",
        "train_accuracy_correct = accuracy_score(y_train, y_train_pred_correct)\n",
        "\n",
        "correct_fitting = fitting(train_accuracy_correct, test_accuracy_correct)\n",
        "print(f\"Признаков: {len(optimal_features)}\")\n",
        "print(\"Параметры: learning_rate=0.1, n_iterations=1000\")\n",
        "print(f\"Train Accuracy: {train_accuracy_correct:.4f}\")\n",
        "print(f\"Test Accuracy: {test_accuracy_correct:.4f}\")\n",
        "print(f\"Разница: {correct_fitting['train_test_diff']:.4f}\")\n",
        "print(f\"Корректно ли обучение: {correct_fitting['fitting']}\")"
      ]
    },
    {
      "cell_type": "code",
      "execution_count": null,
      "metadata": {
        "colab": {
          "base_uri": "https://localhost:8080/"
        },
        "id": "VfWVFs5DpT15",
        "outputId": "44c54286-396b-416a-b98c-5cb18be58617"
      },
      "outputs": [
        {
          "name": "stdout",
          "output_type": "stream",
          "text": [
            "1.СВОЯ РЕАЛИЗАЦИЯ:\n",
            "   Train Accuracy: 0.7893\n",
            "   Test Accuracy:  0.7933\n",
            "   Веса: [-1.0118029  -1.31441958 -0.55556327 -0.30506512]\n",
            "2.SCIKIT-LEARN РЕАЛИЗАЦИЯ:\n",
            "   Train Accuracy: 0.7879\n",
            "   Test Accuracy:  0.7933\n",
            "   Веса: [-0.99246823 -1.2956085  -0.54204518 -0.29541199]\n",
            "3.СРАВНЕНИЕ МЕТРИК:\n",
            "   Метрика              Своя реализация  Scikit-learn    Разница\n",
            "   Train Accuracy    |     0.7893      |    0.7879    | 0.0014\n",
            "   Test Accuracy     |     0.7933      |    0.7933    | 0.0000\n"
          ]
        }
      ],
      "source": [
        "optimal_features = ['Pclass', 'Sex_encoded', 'Age', 'FamilySize']\n",
        "X_train_opt = X_train_full[optimal_features]\n",
        "X_test_opt = X_test_full[optimal_features]\n",
        "\n",
        "scaler_opt = StandardScaler()\n",
        "X_train_opt_scaled = scaler_opt.fit_transform(X_train_opt)\n",
        "X_test_opt_scaled = scaler_opt.transform(X_test_opt)\n",
        "\n",
        "print(\"1.СВОЯ РЕАЛИЗАЦИЯ:\")\n",
        "model_custom = LogReg(learning_rate=0.1, n_iterations=1000)\n",
        "model_custom.fit(X_train_opt_scaled, y_train)\n",
        "\n",
        "y_pred_custom_train = model_custom.predict(X_train_opt_scaled)\n",
        "y_pred_custom_test = model_custom.predict(X_test_opt_scaled)\n",
        "\n",
        "train_acc_custom = accuracy_score(y_train, y_pred_custom_train)\n",
        "test_acc_custom = accuracy_score(y_test, y_pred_custom_test)\n",
        "\n",
        "print(f\"   Train Accuracy: {train_acc_custom:.4f}\")\n",
        "print(f\"   Test Accuracy:  {test_acc_custom:.4f}\")\n",
        "print(f\"   Веса: {model_custom.weights}\")\n",
        "\n",
        "print(\"2.SCIKIT-LEARN РЕАЛИЗАЦИЯ:\")\n",
        "model_sklearn = LogisticRegression(\n",
        "    penalty='l2',\n",
        "    C=1.0,\n",
        "    solver='lbfgs',\n",
        "    max_iter=1000,\n",
        "    random_state=42\n",
        ")\n",
        "model_sklearn.fit(X_train_opt_scaled, y_train)\n",
        "\n",
        "y_pred_sklearn_train = model_sklearn.predict(X_train_opt_scaled)\n",
        "y_pred_sklearn_test = model_sklearn.predict(X_test_opt_scaled)\n",
        "\n",
        "train_acc_sklearn = accuracy_score(y_train, y_pred_sklearn_train)\n",
        "test_acc_sklearn = accuracy_score(y_test, y_pred_sklearn_test)\n",
        "\n",
        "print(f\"   Train Accuracy: {train_acc_sklearn:.4f}\")\n",
        "print(f\"   Test Accuracy:  {test_acc_sklearn:.4f}\")\n",
        "print(f\"   Веса: {model_sklearn.coef_[0]}\")\n",
        "\n",
        "print(\"3.СРАВНЕНИЕ МЕТРИК:\")\n",
        "print(\"   Метрика              Своя реализация  Scikit-learn    Разница\")\n",
        "print(f\"   Train Accuracy    |     {train_acc_custom:.4f}      |    {train_acc_sklearn:.4f}    | {abs(train_acc_custom - train_acc_sklearn):.4f}\")\n",
        "print(f\"   Test Accuracy     |     {test_acc_custom:.4f}      |    {test_acc_sklearn:.4f}    | {abs(test_acc_custom - test_acc_sklearn):.4f}\")"
      ]
    }
  ],
  "metadata": {
    "colab": {
      "provenance": []
    },
    "kernelspec": {
      "display_name": "Python 3",
      "name": "python3"
    },
    "language_info": {
      "codemirror_mode": {
        "name": "ipython",
        "version": 3
      },
      "file_extension": ".py",
      "mimetype": "text/x-python",
      "name": "python",
      "nbconvert_exporter": "python",
      "pygments_lexer": "ipython3",
      "version": "3.9.13"
    }
  },
  "nbformat": 4,
  "nbformat_minor": 0
}
