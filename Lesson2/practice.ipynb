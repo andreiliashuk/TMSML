{
 "cells": [
  {
   "cell_type": "code",
   "execution_count": 7,
   "id": "a046460f-2ab1-4d75-a86a-77f1be32ae3f",
   "metadata": {},
   "outputs": [
    {
     "name": "stdout",
     "output_type": "stream",
     "text": [
      "Значение функции y при x = 1.79: 3.2407778229661575\n"
     ]
    }
   ],
   "source": [
    "import math\n",
    "\n",
    "def calculate_function(x):\n",
    "\n",
    "    term1 = math.cos(math.exp(x))\n",
    "        \n",
    "    term2 = (math.log(1 + x)) ** 2\n",
    "        \n",
    "    term3_a = math.exp(math.cos(x)) + (math.sin(x)) ** 2\n",
    "    \n",
    "    term3 = math.sqrt(term3_a) if term3_a >= 0 else 0\n",
    "        \n",
    "    term4_a = 1/x + math.cos(x ** 2)\n",
    "    \n",
    "    term4 = math.sqrt(term4_a) if term4_a >= 0 else 0\n",
    "\n",
    "    term4 = term1 + term2 + term3 + term4\n",
    "    result = math.pow(term4, math.sin(x))\n",
    "        \n",
    "    return result\n",
    "    \n",
    "   \n",
    "\n",
    "x_value = 1.79\n",
    "result = calculate_function(x_value)\n",
    "\n",
    "print(f\"Значение функции y при x = {x_value}: {result}\")"
   ]
  },
  {
   "cell_type": "code",
   "execution_count": 8,
   "id": "55f8d17e-316a-4a56-8a29-cb1ffb6fcff4",
   "metadata": {},
   "outputs": [
    {
     "name": "stdout",
     "output_type": "stream",
     "text": [
      "Есть контакт!\n",
      "Мимо!\n"
     ]
    }
   ],
   "source": [
    "def search_subst(subst, st):\n",
    "    subst_lower = subst.lower()\n",
    "    st_lower = st.lower()\n",
    "    if subst_lower in st_lower:\n",
    "        return \"Есть контакт!\"\n",
    "    else:\n",
    "        return \"Мимо!\"\n",
    "\n",
    "print(search_subst(\"КОНтаКт!\", \"мимо контакт!\"))  \n",
    "print(search_subst(\"привет\", \"пока!\"))          "
   ]
  },
  {
   "cell_type": "code",
   "execution_count": 9,
   "id": "35300ad2-5bf3-4ec9-b6b0-9fdc4ba15eed",
   "metadata": {},
   "outputs": [
    {
     "name": "stdout",
     "output_type": "stream",
     "text": [
      "3 самых частых символа: [('с', 5), ('т', 4), ('а', 4)]\n"
     ]
    }
   ],
   "source": [
    "from collections import Counter\n",
    "\n",
    "def most_frequent_chars(text):\n",
    "    cleaned_text = text.replace(' ', '').lower()\n",
    "    \n",
    "    char_count = Counter(cleaned_text)\n",
    "    \n",
    "    top_3 = char_count.most_common(3)\n",
    "    \n",
    "    return top_3\n",
    "\n",
    "text = \"Пример текста для подсчета 3 самых частых символов.\"\n",
    "result = most_frequent_chars(text)\n",
    "print(\"3 самых частых символа:\", result)"
   ]
  },
  {
   "cell_type": "code",
   "execution_count": 10,
   "id": "6d6c815a-32a8-4607-b61d-f677042629e0",
   "metadata": {},
   "outputs": [
    {
     "name": "stdout",
     "output_type": "stream",
     "text": [
      "3 самых частых числа: {1: 4, 2: 4, 3: 1}\n"
     ]
    }
   ],
   "source": [
    "from collections import Counter\n",
    "\n",
    "def count_it(sequence):\n",
    "    digits = [int(char) for char in sequence if char.isdigit()]\n",
    "    \n",
    "    freq = Counter(digits)\n",
    "    \n",
    "    top_3 = freq.most_common(3)\n",
    "    \n",
    "    return dict(top_3)\n",
    "\n",
    "sequence = \"123456789111222\"\n",
    "result = count_it(sequence)\n",
    "print(\"3 самых частых числа:\", result)"
   ]
  },
  {
   "cell_type": "code",
   "execution_count": 11,
   "id": "36688327-39e3-468d-9d39-20b4f62071e0",
   "metadata": {},
   "outputs": [
    {
     "name": "stdout",
     "output_type": "stream",
     "text": [
      "=== Задача 5: Проверка угрозы ферзем и конем ===\n",
      "Введите координаты вашей фигуры:\n"
     ]
    },
    {
     "name": "stdout",
     "output_type": "stream",
     "text": [
      "Введите координаты фигуры соперника:\n",
      "\n",
      "Введенные координаты:\n",
      "Ваша фигура: (1, 1)\n",
      "Фигура соперника: (2, 3)\n",
      "\n",
      "Результаты проверки:\n",
      "Ферзь угрожает: Нет\n",
      "Конь угрожает: Да\n",
      "\n",
      "=== Задача 6: Проверка угрозы конем с учетом хода ===\n",
      "Введите координаты вашего коня (a,b):\n",
      "Введите координаты фигуры соперника (c,d):\n",
      "\n",
      "Введенные координаты:\n",
      "Ваш конь: (1, 1)\n",
      "Фигура соперника: (3, 5)\n",
      "\n",
      "Результат:\n",
      "Сейчас угрожаете сопернику: Нет\n",
      "Можете угрожать после хода: Да\n",
      "Общая угроза: Да\n",
      "Ходы для угрозы: [(2, 3)]\n"
     ]
    }
   ],
   "source": [
    "def is_under_attack_by_queen(a, b, c, d):\n",
    "    return (a == c or b == d or abs(a - c) == abs(b - d))\n",
    "\n",
    "def is_under_attack_by_knight(a, b, c, d):\n",
    "    dx = abs(a - c)\n",
    "    dy = abs(b - d)\n",
    "    return (dx == 2 and dy == 1) or (dx == 1 and dy == 2)\n",
    "\n",
    "def solve_task_5():\n",
    "    print(\"=== Задача 5: Проверка угрозы ферзем и конем ===\")\n",
    "    print(\"Введите координаты вашей фигуры:\")\n",
    "    a = int(input(\"Номер столбца (1-8): \"))\n",
    "    b = int(input(\"Номер строки (1-8): \"))\n",
    "    \n",
    "    print(\"Введите координаты фигуры соперника:\")\n",
    "    c = int(input(\"Номер столбца (1-8): \"))\n",
    "    d = int(input(\"Номер строки (1-8): \"))\n",
    "\n",
    "    queen_threat = is_under_attack_by_queen(a, b, c, d)\n",
    "    knight_threat = is_under_attack_by_knight(a, b, c, d)\n",
    "    \n",
    "    print(f\"\\nВведенные координаты:\")\n",
    "    print(f\"Ваша фигура: ({a}, {b})\")\n",
    "    print(f\"Фигура соперника: ({c}, {d})\")\n",
    "    print(f\"\\nРезультаты проверки:\")\n",
    "    print(f\"Ферзь угрожает: {'Да' if queen_threat else 'Нет'}\")\n",
    "    print(f\"Конь угрожает: {'Да' if knight_threat else 'Нет'}\")\n",
    "\n",
    "solve_task_5()\n",
    "\n",
    "def is_knight_threat(a, b, c, d):\n",
    "    dx = abs(a - c)\n",
    "    dy = abs(b - d)\n",
    "    return (dx == 1 and dy == 2) or (dx == 2 and dy == 1)\n",
    "\n",
    "def get_knight_moves(x, y):\n",
    "    moves = []\n",
    "    knight_moves = [(2, 1), (2, -1), (-2, 1), (-2, -1), (1, 2), (1, -2), (-1, 2), (-1, -2)]\n",
    "    for dx, dy in knight_moves:\n",
    "        new_x, new_y = x + dx, y + dy\n",
    "        if 1 <= new_x <= 8 and 1 <= new_y <= 8:\n",
    "            moves.append((new_x, new_y))\n",
    "    return moves\n",
    "\n",
    "def check_knight_threat_with_move(a, b, c, d):\n",
    "    current_threat = is_knight_threat(a, b, c, d)\n",
    "    possible_moves = get_knight_moves(a, b)\n",
    "    threat_after_move = any(is_knight_threat(move_x, move_y, c, d) for move_x, move_y in possible_moves)\n",
    "    return {\n",
    "        'current_threat': current_threat,\n",
    "        'threat_after_move': threat_after_move,\n",
    "        'can_threaten': current_threat or threat_after_move\n",
    "    }\n",
    "\n",
    "print(\"\\n=== Задача 6: Проверка угрозы конем с учетом хода ===\")\n",
    "print(\"Введите координаты вашего коня (a,b):\")\n",
    "a = int(input(\"a (1-8): \"))\n",
    "b = int(input(\"b (1-8): \"))\n",
    "\n",
    "print(\"Введите координаты фигуры соперника (c,d):\")\n",
    "c = int(input(\"c (1-8): \"))\n",
    "d = int(input(\"d (1-8): \"))\n",
    "\n",
    "result = check_knight_threat_with_move(a, b, c, d)\n",
    "\n",
    "print(f\"\\nВведенные координаты:\")\n",
    "print(f\"Ваш конь: ({a}, {b})\")\n",
    "print(f\"Фигура соперника: ({c}, {d})\")\n",
    "print(f\"\\nРезультат:\")\n",
    "print(f\"Сейчас угрожаете сопернику: {'Да' if result['current_threat'] else 'Нет'}\")\n",
    "print(f\"Можете угрожать после хода: {'Да' if result['threat_after_move'] else 'Нет'}\")\n",
    "print(f\"Общая угроза: {'Да' if result['can_threaten'] else 'Нет'}\")\n",
    "\n",
    "if result['threat_after_move']:\n",
    "    moves = get_knight_moves(a, b)\n",
    "    threat_moves = [(x, y) for x, y in moves if is_knight_threat(x, y, c, d)]\n",
    "    print(f\"Ходы для угрозы: {threat_moves}\")"
   ]
  }
 ],
 "metadata": {
  "kernelspec": {
   "display_name": "Python 3",
   "language": "python",
   "name": "python3"
  },
  "language_info": {
   "codemirror_mode": {
    "name": "ipython",
    "version": 3
   },
   "file_extension": ".py",
   "mimetype": "text/x-python",
   "name": "python",
   "nbconvert_exporter": "python",
   "pygments_lexer": "ipython3",
   "version": "3.12.10"
  }
 },
 "nbformat": 4,
 "nbformat_minor": 5
}
